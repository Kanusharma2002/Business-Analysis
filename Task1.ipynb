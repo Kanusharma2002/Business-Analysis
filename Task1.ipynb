{
  "nbformat": 4,
  "nbformat_minor": 0,
  "metadata": {
    "colab": {
      "provenance": [],
      "authorship_tag": "ABX9TyNZ7OkWC4iTYYzbU6WtiBZ8",
      "include_colab_link": true
    },
    "kernelspec": {
      "name": "python3",
      "display_name": "Python 3"
    },
    "language_info": {
      "name": "python"
    }
  },
  "cells": [
    {
      "cell_type": "markdown",
      "metadata": {
        "id": "view-in-github",
        "colab_type": "text"
      },
      "source": [
        "<a href=\"https://colab.research.google.com/github/Kanusharma2002/Business-Analysis/blob/main/Task1.ipynb\" target=\"_parent\"><img src=\"https://colab.research.google.com/assets/colab-badge.svg\" alt=\"Open In Colab\"/></a>"
      ]
    },
    {
      "cell_type": "code",
      "execution_count": 29,
      "metadata": {
        "colab": {
          "base_uri": "https://localhost:8080/"
        },
        "id": "AqEzS0eMEEf-",
        "outputId": "4090c8cd-7198-40e7-bfd3-ad6fa9cde83b"
      },
      "outputs": [
        {
          "output_type": "stream",
          "name": "stdout",
          "text": [
            "Requirement already satisfied: mlxtend in /usr/local/lib/python3.11/dist-packages (0.23.4)\n",
            "Requirement already satisfied: scipy>=1.2.1 in /usr/local/lib/python3.11/dist-packages (from mlxtend) (1.15.3)\n",
            "Requirement already satisfied: numpy>=1.16.2 in /usr/local/lib/python3.11/dist-packages (from mlxtend) (2.0.2)\n",
            "Requirement already satisfied: pandas>=0.24.2 in /usr/local/lib/python3.11/dist-packages (from mlxtend) (2.2.2)\n",
            "Requirement already satisfied: scikit-learn>=1.3.1 in /usr/local/lib/python3.11/dist-packages (from mlxtend) (1.6.1)\n",
            "Requirement already satisfied: matplotlib>=3.0.0 in /usr/local/lib/python3.11/dist-packages (from mlxtend) (3.10.0)\n",
            "Requirement already satisfied: joblib>=0.13.2 in /usr/local/lib/python3.11/dist-packages (from mlxtend) (1.5.1)\n",
            "Requirement already satisfied: contourpy>=1.0.1 in /usr/local/lib/python3.11/dist-packages (from matplotlib>=3.0.0->mlxtend) (1.3.2)\n",
            "Requirement already satisfied: cycler>=0.10 in /usr/local/lib/python3.11/dist-packages (from matplotlib>=3.0.0->mlxtend) (0.12.1)\n",
            "Requirement already satisfied: fonttools>=4.22.0 in /usr/local/lib/python3.11/dist-packages (from matplotlib>=3.0.0->mlxtend) (4.58.4)\n",
            "Requirement already satisfied: kiwisolver>=1.3.1 in /usr/local/lib/python3.11/dist-packages (from matplotlib>=3.0.0->mlxtend) (1.4.8)\n",
            "Requirement already satisfied: packaging>=20.0 in /usr/local/lib/python3.11/dist-packages (from matplotlib>=3.0.0->mlxtend) (24.2)\n",
            "Requirement already satisfied: pillow>=8 in /usr/local/lib/python3.11/dist-packages (from matplotlib>=3.0.0->mlxtend) (11.2.1)\n",
            "Requirement already satisfied: pyparsing>=2.3.1 in /usr/local/lib/python3.11/dist-packages (from matplotlib>=3.0.0->mlxtend) (3.2.3)\n",
            "Requirement already satisfied: python-dateutil>=2.7 in /usr/local/lib/python3.11/dist-packages (from matplotlib>=3.0.0->mlxtend) (2.9.0.post0)\n",
            "Requirement already satisfied: pytz>=2020.1 in /usr/local/lib/python3.11/dist-packages (from pandas>=0.24.2->mlxtend) (2025.2)\n",
            "Requirement already satisfied: tzdata>=2022.7 in /usr/local/lib/python3.11/dist-packages (from pandas>=0.24.2->mlxtend) (2025.2)\n",
            "Requirement already satisfied: threadpoolctl>=3.1.0 in /usr/local/lib/python3.11/dist-packages (from scikit-learn>=1.3.1->mlxtend) (3.6.0)\n",
            "Requirement already satisfied: six>=1.5 in /usr/local/lib/python3.11/dist-packages (from python-dateutil>=2.7->matplotlib>=3.0.0->mlxtend) (1.17.0)\n"
          ]
        }
      ],
      "source": [
        "pip install mlxtend"
      ]
    },
    {
      "cell_type": "code",
      "source": [
        "import pandas as pd"
      ],
      "metadata": {
        "id": "II7rT8lZEQxA"
      },
      "execution_count": 30,
      "outputs": []
    },
    {
      "cell_type": "code",
      "source": [
        "df = pd.read_csv('Groceries_dataset.csv')"
      ],
      "metadata": {
        "id": "nD_baJpGEkWc"
      },
      "execution_count": 31,
      "outputs": []
    },
    {
      "cell_type": "code",
      "source": [
        "print(\"First 5 rows of the dataset:\")\n",
        "print(df.head())"
      ],
      "metadata": {
        "colab": {
          "base_uri": "https://localhost:8080/"
        },
        "id": "iRfNw_VmEnoG",
        "outputId": "a4fb8f72-9ff2-4378-ca76-60fcfa801439"
      },
      "execution_count": 32,
      "outputs": [
        {
          "output_type": "stream",
          "name": "stdout",
          "text": [
            "First 5 rows of the dataset:\n",
            "   Member_number        Date   itemDescription\n",
            "0           1808  21-07-2015    tropical fruit\n",
            "1           2552  05-01-2015        whole milk\n",
            "2           2300  19-09-2015         pip fruit\n",
            "3           1187  12-12-2015  other vegetables\n",
            "4           3037  01-02-2015        whole milk\n"
          ]
        }
      ]
    },
    {
      "cell_type": "code",
      "source": [
        "print(\"\\nNumber of unique items:\", df['itemDescription'].nunique())\n",
        "print(\"Top 10 most frequent items:\\n\", df['itemDescription'].value_counts().head(10))"
      ],
      "metadata": {
        "colab": {
          "base_uri": "https://localhost:8080/"
        },
        "id": "pLf8ffQgEqvX",
        "outputId": "9774fb0c-47a4-4e8d-8548-f21a560f464c"
      },
      "execution_count": 33,
      "outputs": [
        {
          "output_type": "stream",
          "name": "stdout",
          "text": [
            "\n",
            "Number of unique items: 167\n",
            "Top 10 most frequent items:\n",
            " itemDescription\n",
            "whole milk          2502\n",
            "other vegetables    1898\n",
            "rolls/buns          1716\n",
            "soda                1514\n",
            "yogurt              1334\n",
            "root vegetables     1071\n",
            "tropical fruit      1032\n",
            "bottled water        933\n",
            "sausage              924\n",
            "citrus fruit         812\n",
            "Name: count, dtype: int64\n"
          ]
        }
      ]
    },
    {
      "cell_type": "code",
      "source": [
        "df['Date'] = pd.to_datetime(df['Date'], format='%d-%m-%Y')"
      ],
      "metadata": {
        "id": "CF_vobmeEt3v"
      },
      "execution_count": 34,
      "outputs": []
    },
    {
      "cell_type": "code",
      "source": [
        "transactions = df.groupby(['Member_number', 'Date'])['itemDescription'].apply(list).reset_index()"
      ],
      "metadata": {
        "id": "MaYaWZf0EwZ9"
      },
      "execution_count": 35,
      "outputs": []
    },
    {
      "cell_type": "code",
      "source": [
        "print(\"\\nFirst 5 rows of the transactions DataFrame:\")\n",
        "print(transactions.head())"
      ],
      "metadata": {
        "colab": {
          "base_uri": "https://localhost:8080/"
        },
        "id": "F1Gn2l0DEygd",
        "outputId": "004c8440-00be-48ae-b357-3f90d32f1393"
      },
      "execution_count": 36,
      "outputs": [
        {
          "output_type": "stream",
          "name": "stdout",
          "text": [
            "\n",
            "First 5 rows of the transactions DataFrame:\n",
            "   Member_number       Date                                    itemDescription\n",
            "0           1000 2014-06-24                  [whole milk, pastry, salty snack]\n",
            "1           1000 2015-03-15  [sausage, whole milk, semi-finished bread, yog...\n",
            "2           1000 2015-05-27                         [soda, pickled vegetables]\n",
            "3           1000 2015-07-24                     [canned beer, misc. beverages]\n",
            "4           1000 2015-11-25                        [sausage, hygiene articles]\n"
          ]
        }
      ]
    },
    {
      "cell_type": "code",
      "source": [
        "transaction_list = transactions['itemDescription'].tolist()"
      ],
      "metadata": {
        "id": "5RD81aJYE0Lq"
      },
      "execution_count": 37,
      "outputs": []
    },
    {
      "cell_type": "code",
      "source": [
        "print(\"\\nFirst 5 transactions in list format:\")\n",
        "for i, transaction in enumerate(transaction_list[:5]):\n",
        "    print(f\"Transaction {i+1}: {transaction}\")"
      ],
      "metadata": {
        "colab": {
          "base_uri": "https://localhost:8080/"
        },
        "id": "uALciKCAE3Vg",
        "outputId": "cc322df6-2327-4637-d2ba-427459e134e1"
      },
      "execution_count": 38,
      "outputs": [
        {
          "output_type": "stream",
          "name": "stdout",
          "text": [
            "\n",
            "First 5 transactions in list format:\n",
            "Transaction 1: ['whole milk', 'pastry', 'salty snack']\n",
            "Transaction 2: ['sausage', 'whole milk', 'semi-finished bread', 'yogurt']\n",
            "Transaction 3: ['soda', 'pickled vegetables']\n",
            "Transaction 4: ['canned beer', 'misc. beverages']\n",
            "Transaction 5: ['sausage', 'hygiene articles']\n"
          ]
        }
      ]
    },
    {
      "cell_type": "code",
      "source": [
        "from mlxtend.preprocessing import TransactionEncoder\n"
      ],
      "metadata": {
        "id": "2DX1WhBvE5Md"
      },
      "execution_count": 39,
      "outputs": []
    },
    {
      "cell_type": "code",
      "source": [
        "te = TransactionEncoder()\n"
      ],
      "metadata": {
        "id": "iNm8QknGFAdp"
      },
      "execution_count": 40,
      "outputs": []
    },
    {
      "cell_type": "code",
      "source": [
        "te_ary = te.fit(transaction_list).transform(transaction_list)\n"
      ],
      "metadata": {
        "id": "kTUuBiWFFFSA"
      },
      "execution_count": 41,
      "outputs": []
    },
    {
      "cell_type": "code",
      "source": [
        "df_encoded = pd.DataFrame(te_ary, columns=te.columns_)\n"
      ],
      "metadata": {
        "id": "IFtwQf5kFHTr"
      },
      "execution_count": 42,
      "outputs": []
    },
    {
      "cell_type": "code",
      "source": [
        "print(\"\\nFirst 5 rows of the one-hot encoded DataFrame (True indicates presence of item):\")\n"
      ],
      "metadata": {
        "colab": {
          "base_uri": "https://localhost:8080/"
        },
        "id": "jgog8GzJFJdb",
        "outputId": "85f9bdca-d5bb-40ff-ecac-a2d61a8e8fc7"
      },
      "execution_count": 43,
      "outputs": [
        {
          "output_type": "stream",
          "name": "stdout",
          "text": [
            "\n",
            "First 5 rows of the one-hot encoded DataFrame (True indicates presence of item):\n"
          ]
        }
      ]
    },
    {
      "cell_type": "code",
      "source": [
        "print(df_encoded.head())"
      ],
      "metadata": {
        "colab": {
          "base_uri": "https://localhost:8080/"
        },
        "id": "oRjNBT13FL24",
        "outputId": "7e8eaba1-bca3-4759-ae81-0d7d40f82d40"
      },
      "execution_count": 44,
      "outputs": [
        {
          "output_type": "stream",
          "name": "stdout",
          "text": [
            "   Instant food products  UHT-milk  abrasive cleaner  artif. sweetener  \\\n",
            "0                  False     False             False             False   \n",
            "1                  False     False             False             False   \n",
            "2                  False     False             False             False   \n",
            "3                  False     False             False             False   \n",
            "4                  False     False             False             False   \n",
            "\n",
            "   baby cosmetics   bags  baking powder  bathroom cleaner   beef  berries  \\\n",
            "0           False  False          False             False  False    False   \n",
            "1           False  False          False             False  False    False   \n",
            "2           False  False          False             False  False    False   \n",
            "3           False  False          False             False  False    False   \n",
            "4           False  False          False             False  False    False   \n",
            "\n",
            "   ...  turkey  vinegar  waffles  whipped/sour cream  whisky  white bread  \\\n",
            "0  ...   False    False    False               False   False        False   \n",
            "1  ...   False    False    False               False   False        False   \n",
            "2  ...   False    False    False               False   False        False   \n",
            "3  ...   False    False    False               False   False        False   \n",
            "4  ...   False    False    False               False   False        False   \n",
            "\n",
            "   white wine  whole milk  yogurt  zwieback  \n",
            "0       False        True   False     False  \n",
            "1       False        True    True     False  \n",
            "2       False       False   False     False  \n",
            "3       False       False   False     False  \n",
            "4       False       False   False     False  \n",
            "\n",
            "[5 rows x 167 columns]\n"
          ]
        }
      ]
    },
    {
      "cell_type": "code",
      "source": [
        "from mlxtend.frequent_patterns import apriori"
      ],
      "metadata": {
        "id": "UJGsrFb8FRcN"
      },
      "execution_count": 45,
      "outputs": []
    },
    {
      "cell_type": "code",
      "source": [
        "frequent_itemsets = apriori(df_encoded, min_support=0.01, use_colnames=True)"
      ],
      "metadata": {
        "id": "vQiBtm2-Fraj"
      },
      "execution_count": 46,
      "outputs": []
    },
    {
      "cell_type": "code",
      "source": [
        "frequent_itemsets = frequent_itemsets.sort_values(by='support', ascending=False)\n"
      ],
      "metadata": {
        "id": "OdsL23pXFuBm"
      },
      "execution_count": 47,
      "outputs": []
    },
    {
      "cell_type": "code",
      "source": [
        "frequent_itemsets = frequent_itemsets.sort_values(by='support', ascending=False)\n"
      ],
      "metadata": {
        "id": "WKBPbda2Fv_L"
      },
      "execution_count": 48,
      "outputs": []
    },
    {
      "cell_type": "code",
      "source": [
        "print(\"\\nFrequent Itemsets with more than one item:\")\n",
        "print(frequent_itemsets[frequent_itemsets['itemsets'].apply(lambda x: len(x) > 1)].head())"
      ],
      "metadata": {
        "colab": {
          "base_uri": "https://localhost:8080/"
        },
        "id": "v_2Z2o47Fxwt",
        "outputId": "6c3877e8-73ee-4b56-e159-a270c00249f9"
      },
      "execution_count": 49,
      "outputs": [
        {
          "output_type": "stream",
          "name": "stdout",
          "text": [
            "\n",
            "Frequent Itemsets with more than one item:\n",
            "     support                        itemsets\n",
            "65  0.014837  (whole milk, other vegetables)\n",
            "66  0.013968        (whole milk, rolls/buns)\n",
            "67  0.011629              (whole milk, soda)\n",
            "68  0.011161            (whole milk, yogurt)\n",
            "64  0.010559  (other vegetables, rolls/buns)\n"
          ]
        }
      ]
    },
    {
      "cell_type": "code",
      "source": [
        "from mlxtend.frequent_patterns import association_rules"
      ],
      "metadata": {
        "id": "FoPTWisaFzz2"
      },
      "execution_count": 50,
      "outputs": []
    },
    {
      "cell_type": "code",
      "source": [
        "rules = association_rules(frequent_itemsets, metric=\"confidence\", min_threshold=0.5)\n"
      ],
      "metadata": {
        "id": "Nc_IEU3DF3Sy"
      },
      "execution_count": 51,
      "outputs": []
    },
    {
      "cell_type": "code",
      "source": [
        "rules = rules.sort_values(['lift', 'confidence'], ascending=[False, False])\n"
      ],
      "metadata": {
        "id": "jNvc3pbyF5zA"
      },
      "execution_count": 52,
      "outputs": []
    },
    {
      "cell_type": "code",
      "source": [
        "print(\"\\nTop 10 Association Rules (sorted by Lift and Confidence):\")\n",
        "print(rules.head(10))"
      ],
      "metadata": {
        "colab": {
          "base_uri": "https://localhost:8080/"
        },
        "id": "J9tGiOjfF8ek",
        "outputId": "8767d5ad-654c-4412-a028-3a598dcfec19"
      },
      "execution_count": 53,
      "outputs": [
        {
          "output_type": "stream",
          "name": "stdout",
          "text": [
            "\n",
            "Top 10 Association Rules (sorted by Lift and Confidence):\n",
            "Empty DataFrame\n",
            "Columns: [antecedents, consequents, antecedent support, consequent support, support, confidence, lift, representativity, leverage, conviction, zhangs_metric, jaccard, certainty, kulczynski]\n",
            "Index: []\n"
          ]
        }
      ]
    },
    {
      "cell_type": "code",
      "source": [
        "print(\"\\nAssociation Rules where 'whole milk' is the consequent:\")\n",
        "print(rules[rules['consequents'].apply(lambda x: 'whole milk' in x)].head())"
      ],
      "metadata": {
        "colab": {
          "base_uri": "https://localhost:8080/"
        },
        "id": "JdZxApnSF-fu",
        "outputId": "9e2d96dc-f80e-4e7b-fade-223637a7c21b"
      },
      "execution_count": 54,
      "outputs": [
        {
          "output_type": "stream",
          "name": "stdout",
          "text": [
            "\n",
            "Association Rules where 'whole milk' is the consequent:\n",
            "Empty DataFrame\n",
            "Columns: []\n",
            "Index: []\n"
          ]
        }
      ]
    },
    {
      "cell_type": "code",
      "source": [],
      "metadata": {
        "id": "4zHDUO9_GAfi"
      },
      "execution_count": 54,
      "outputs": []
    }
  ]
}